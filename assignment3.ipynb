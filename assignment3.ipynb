{
 "cells": [
  {
   "cell_type": "code",
   "execution_count": 5,
   "id": "4d2bc3d8-56d5-4190-a996-33be6140c112",
   "metadata": {},
   "outputs": [],
   "source": [
    "import pandas as pd\n",
    "\n",
    "df = pd.DataFrame({'course_name ': ['Data Science', 'Machine Learning', 'Big Data', 'Data Engineer'], 'duration' : [2,3,6,4]})"
   ]
  },
  {
   "cell_type": "code",
   "execution_count": 6,
   "id": "f9f84065-8b45-4455-a7b3-b0b8f1c61d98",
   "metadata": {},
   "outputs": [
    {
     "data": {
      "text/html": [
       "<div>\n",
       "<style scoped>\n",
       "    .dataframe tbody tr th:only-of-type {\n",
       "        vertical-align: middle;\n",
       "    }\n",
       "\n",
       "    .dataframe tbody tr th {\n",
       "        vertical-align: top;\n",
       "    }\n",
       "\n",
       "    .dataframe thead th {\n",
       "        text-align: right;\n",
       "    }\n",
       "</style>\n",
       "<table border=\"1\" class=\"dataframe\">\n",
       "  <thead>\n",
       "    <tr style=\"text-align: right;\">\n",
       "      <th></th>\n",
       "      <th>course_name</th>\n",
       "      <th>duration</th>\n",
       "    </tr>\n",
       "  </thead>\n",
       "  <tbody>\n",
       "    <tr>\n",
       "      <th>0</th>\n",
       "      <td>Data Science</td>\n",
       "      <td>2</td>\n",
       "    </tr>\n",
       "    <tr>\n",
       "      <th>1</th>\n",
       "      <td>Machine Learning</td>\n",
       "      <td>3</td>\n",
       "    </tr>\n",
       "    <tr>\n",
       "      <th>2</th>\n",
       "      <td>Big Data</td>\n",
       "      <td>6</td>\n",
       "    </tr>\n",
       "    <tr>\n",
       "      <th>3</th>\n",
       "      <td>Data Engineer</td>\n",
       "      <td>4</td>\n",
       "    </tr>\n",
       "  </tbody>\n",
       "</table>\n",
       "</div>"
      ],
      "text/plain": [
       "       course_name   duration\n",
       "0      Data Science         2\n",
       "1  Machine Learning         3\n",
       "2          Big Data         6\n",
       "3     Data Engineer         4"
      ]
     },
     "execution_count": 6,
     "metadata": {},
     "output_type": "execute_result"
    }
   ],
   "source": [
    "df"
   ]
  },
  {
   "cell_type": "code",
   "execution_count": 25,
   "id": "9ce20926-7d66-4d69-a9bd-b7b5856cbfcd",
   "metadata": {},
   "outputs": [
    {
     "data": {
      "text/plain": [
       "course_name     Machine Learning\n",
       "duration                       3\n",
       "Name: 1, dtype: object"
      ]
     },
     "execution_count": 25,
     "metadata": {},
     "output_type": "execute_result"
    }
   ],
   "source": [
    "# Q1\n",
    "df.iloc[1]"
   ]
  },
  {
   "cell_type": "code",
   "execution_count": 26,
   "id": "f4a2b07b-48bb-402f-ab5a-9bcd8a0edf5b",
   "metadata": {},
   "outputs": [],
   "source": [
    "# #Q2.\n",
    "# loc and iloc are methods in pandas that help you access specific rows and columns in a DataFrame.\n",
    "\n",
    "# loc is used to select data based on its label (such as the row and column names) while iloc is used to select data based\n",
    "# on its position (such as the row and column index numbers).\n",
    "\n",
    "# So, if you want to select data based on the names of the rows and columns, you would use loc, and if you want to select \n",
    "# data based on the position of the rows and columns, you would use iloc."
   ]
  },
  {
   "cell_type": "code",
   "execution_count": 37,
   "id": "3efbb01c-f4c9-4e14-b19f-0ceae2265151",
   "metadata": {},
   "outputs": [],
   "source": [
    "#Q3.\n",
    "# Reindex the given dataframe using a variable, reindex = [3,0,1,2] and store it in the variable, new_df\n",
    "# then find the output for both new_df.loc[2] and new_df.iloc[2].\n",
    "import pandas as pd\n",
    "\n",
    "new_df = pd.DataFrame({'course_name ': ['Data Science', 'Machine Learning', 'Big Data', 'Data Engineer'],\n",
    "                       'duration' : [2,3,6,4]},\n",
    "                       index = [3,0,1,2]\n",
    "                     )\n",
    " "
   ]
  },
  {
   "cell_type": "code",
   "execution_count": 38,
   "id": "d8498646-c76d-4348-b76f-53fcb1f9a872",
   "metadata": {},
   "outputs": [
    {
     "data": {
      "text/html": [
       "<div>\n",
       "<style scoped>\n",
       "    .dataframe tbody tr th:only-of-type {\n",
       "        vertical-align: middle;\n",
       "    }\n",
       "\n",
       "    .dataframe tbody tr th {\n",
       "        vertical-align: top;\n",
       "    }\n",
       "\n",
       "    .dataframe thead th {\n",
       "        text-align: right;\n",
       "    }\n",
       "</style>\n",
       "<table border=\"1\" class=\"dataframe\">\n",
       "  <thead>\n",
       "    <tr style=\"text-align: right;\">\n",
       "      <th></th>\n",
       "      <th>course_name</th>\n",
       "      <th>duration</th>\n",
       "    </tr>\n",
       "  </thead>\n",
       "  <tbody>\n",
       "    <tr>\n",
       "      <th>3</th>\n",
       "      <td>Data Science</td>\n",
       "      <td>2</td>\n",
       "    </tr>\n",
       "    <tr>\n",
       "      <th>0</th>\n",
       "      <td>Machine Learning</td>\n",
       "      <td>3</td>\n",
       "    </tr>\n",
       "    <tr>\n",
       "      <th>1</th>\n",
       "      <td>Big Data</td>\n",
       "      <td>6</td>\n",
       "    </tr>\n",
       "    <tr>\n",
       "      <th>2</th>\n",
       "      <td>Data Engineer</td>\n",
       "      <td>4</td>\n",
       "    </tr>\n",
       "  </tbody>\n",
       "</table>\n",
       "</div>"
      ],
      "text/plain": [
       "       course_name   duration\n",
       "3      Data Science         2\n",
       "0  Machine Learning         3\n",
       "1          Big Data         6\n",
       "2     Data Engineer         4"
      ]
     },
     "execution_count": 38,
     "metadata": {},
     "output_type": "execute_result"
    }
   ],
   "source": [
    "new_df"
   ]
  },
  {
   "cell_type": "code",
   "execution_count": 39,
   "id": "20c3aa1f-ea67-4ac0-b30f-4b0055e4c688",
   "metadata": {},
   "outputs": [
    {
     "data": {
      "text/plain": [
       "course_name     Data Engineer\n",
       "duration                    4\n",
       "Name: 2, dtype: object"
      ]
     },
     "execution_count": 39,
     "metadata": {},
     "output_type": "execute_result"
    }
   ],
   "source": [
    "new_df.loc[2] #The loc method is used to access rows of a DataFrame using the index labels. In this case, we pass the label\n",
    "# 2 to the loc method to access the row with index label 2."
   ]
  },
  {
   "cell_type": "code",
   "execution_count": 40,
   "id": "7b17822e-5602-4e20-8a7b-a2da3b6b3d72",
   "metadata": {},
   "outputs": [
    {
     "data": {
      "text/plain": [
       "course_name     Big Data\n",
       "duration               6\n",
       "Name: 1, dtype: object"
      ]
     },
     "execution_count": 40,
     "metadata": {},
     "output_type": "execute_result"
    }
   ],
   "source": [
    "new_df.iloc[2] #The iloc method is used to access rows of a DataFrame using the integer position. In this case, we pass the\n",
    "# integer 2 to the iloc method to access the third row of the new DataFram"
   ]
  },
  {
   "cell_type": "code",
   "execution_count": 95,
   "id": "1c049448-92b1-4bd3-a843-5e49a6fa3a72",
   "metadata": {},
   "outputs": [],
   "source": [
    "#Another Question\n",
    "import pandas as pd\n",
    "import numpy as np\n",
    "\n",
    "# generate random data\n",
    "data = np.random.rand(6, 6)\n",
    "\n",
    "# create a DataFrame with random data\n",
    "df1 = pd.DataFrame(data, columns=['column_1', 'column_2', 'column_3', 'column_4', 'column_5', 'column_6'], \n",
    "                   index=[1, 2, 3, 4, 5, 6])\n"
   ]
  },
  {
   "cell_type": "code",
   "execution_count": 76,
   "id": "89d1de77-4548-43d2-8a98-1b2a2545e6c0",
   "metadata": {},
   "outputs": [
    {
     "data": {
      "text/html": [
       "<div>\n",
       "<style scoped>\n",
       "    .dataframe tbody tr th:only-of-type {\n",
       "        vertical-align: middle;\n",
       "    }\n",
       "\n",
       "    .dataframe tbody tr th {\n",
       "        vertical-align: top;\n",
       "    }\n",
       "\n",
       "    .dataframe thead th {\n",
       "        text-align: right;\n",
       "    }\n",
       "</style>\n",
       "<table border=\"1\" class=\"dataframe\">\n",
       "  <thead>\n",
       "    <tr style=\"text-align: right;\">\n",
       "      <th></th>\n",
       "      <th>column_1</th>\n",
       "      <th>column_2</th>\n",
       "      <th>column_3</th>\n",
       "      <th>column_4</th>\n",
       "      <th>column_5</th>\n",
       "      <th>column_6</th>\n",
       "    </tr>\n",
       "  </thead>\n",
       "  <tbody>\n",
       "    <tr>\n",
       "      <th>1</th>\n",
       "      <td>0.229272</td>\n",
       "      <td>0.210700</td>\n",
       "      <td>0.060730</td>\n",
       "      <td>0.931219</td>\n",
       "      <td>0.685710</td>\n",
       "      <td>0.219518</td>\n",
       "    </tr>\n",
       "    <tr>\n",
       "      <th>2</th>\n",
       "      <td>0.368545</td>\n",
       "      <td>0.416284</td>\n",
       "      <td>0.331735</td>\n",
       "      <td>0.912163</td>\n",
       "      <td>0.288284</td>\n",
       "      <td>0.080777</td>\n",
       "    </tr>\n",
       "    <tr>\n",
       "      <th>3</th>\n",
       "      <td>0.897412</td>\n",
       "      <td>0.732776</td>\n",
       "      <td>0.757395</td>\n",
       "      <td>0.320775</td>\n",
       "      <td>0.291422</td>\n",
       "      <td>0.570412</td>\n",
       "    </tr>\n",
       "    <tr>\n",
       "      <th>4</th>\n",
       "      <td>0.971484</td>\n",
       "      <td>0.978716</td>\n",
       "      <td>0.360693</td>\n",
       "      <td>0.865728</td>\n",
       "      <td>0.912149</td>\n",
       "      <td>0.059090</td>\n",
       "    </tr>\n",
       "    <tr>\n",
       "      <th>5</th>\n",
       "      <td>0.595746</td>\n",
       "      <td>0.444684</td>\n",
       "      <td>0.475196</td>\n",
       "      <td>0.129479</td>\n",
       "      <td>0.031694</td>\n",
       "      <td>0.718456</td>\n",
       "    </tr>\n",
       "    <tr>\n",
       "      <th>6</th>\n",
       "      <td>0.956284</td>\n",
       "      <td>0.130644</td>\n",
       "      <td>0.372472</td>\n",
       "      <td>0.868914</td>\n",
       "      <td>0.488080</td>\n",
       "      <td>0.428182</td>\n",
       "    </tr>\n",
       "  </tbody>\n",
       "</table>\n",
       "</div>"
      ],
      "text/plain": [
       "   column_1  column_2  column_3  column_4  column_5  column_6\n",
       "1  0.229272  0.210700  0.060730  0.931219  0.685710  0.219518\n",
       "2  0.368545  0.416284  0.331735  0.912163  0.288284  0.080777\n",
       "3  0.897412  0.732776  0.757395  0.320775  0.291422  0.570412\n",
       "4  0.971484  0.978716  0.360693  0.865728  0.912149  0.059090\n",
       "5  0.595746  0.444684  0.475196  0.129479  0.031694  0.718456\n",
       "6  0.956284  0.130644  0.372472  0.868914  0.488080  0.428182"
      ]
     },
     "execution_count": 76,
     "metadata": {},
     "output_type": "execute_result"
    }
   ],
   "source": [
    "df1"
   ]
  },
  {
   "cell_type": "code",
   "execution_count": 77,
   "id": "f8e197bb-44fb-44d4-80b4-6403ebc3b5df",
   "metadata": {},
   "outputs": [],
   "source": [
    "# (i) mean of each and every column present in the dataframe.\n",
    "column_means = df1.mean()"
   ]
  },
  {
   "cell_type": "code",
   "execution_count": 80,
   "id": "d3d6fee0-ec2f-40c8-8d3d-5ef291ffc055",
   "metadata": {},
   "outputs": [
    {
     "data": {
      "text/plain": [
       "column_1    0.669790\n",
       "column_2    0.485634\n",
       "column_3    0.393037\n",
       "column_4    0.671380\n",
       "column_5    0.449557\n",
       "column_6    0.346072\n",
       "dtype: float64"
      ]
     },
     "execution_count": 80,
     "metadata": {},
     "output_type": "execute_result"
    }
   ],
   "source": [
    "column_means"
   ]
  },
  {
   "cell_type": "code",
   "execution_count": 78,
   "id": "17a398e1-10b4-415e-988b-b71b17e8bb14",
   "metadata": {},
   "outputs": [],
   "source": [
    "# (ii) standard deviation of column, ‘column_2’\n",
    "column_deviation = df1.std()"
   ]
  },
  {
   "cell_type": "code",
   "execution_count": 79,
   "id": "f22e632f-61fa-45a6-ba15-4dc0e88de8d4",
   "metadata": {},
   "outputs": [
    {
     "data": {
      "text/plain": [
       "column_1    0.320997\n",
       "column_2    0.320094\n",
       "column_3    0.225904\n",
       "column_4    0.351814\n",
       "column_5    0.315236\n",
       "column_6    0.269999\n",
       "dtype: float64"
      ]
     },
     "execution_count": 79,
     "metadata": {},
     "output_type": "execute_result"
    }
   ],
   "source": [
    "column_deviation"
   ]
  },
  {
   "cell_type": "code",
   "execution_count": 86,
   "id": "50c7a43c-d53b-400b-b4dd-be41999d0329",
   "metadata": {},
   "outputs": [],
   "source": [
    "# Q5. Replace the data present in the second row of column, ‘column_2’ by a string variable then find the\n",
    "# mean of column, column_2.\n",
    "# If you are getting errors in executing it then explain why.\n",
    "# [Hint: To replace the data use df1.loc[] and equate this to string data of your choice.]\n",
    "df1.loc[2, 'column_2'] = 'new_value'\n"
   ]
  },
  {
   "cell_type": "code",
   "execution_count": 87,
   "id": "399fa4d7-4511-4fd7-94d1-8c8a873235e6",
   "metadata": {},
   "outputs": [
    {
     "data": {
      "text/html": [
       "<div>\n",
       "<style scoped>\n",
       "    .dataframe tbody tr th:only-of-type {\n",
       "        vertical-align: middle;\n",
       "    }\n",
       "\n",
       "    .dataframe tbody tr th {\n",
       "        vertical-align: top;\n",
       "    }\n",
       "\n",
       "    .dataframe thead th {\n",
       "        text-align: right;\n",
       "    }\n",
       "</style>\n",
       "<table border=\"1\" class=\"dataframe\">\n",
       "  <thead>\n",
       "    <tr style=\"text-align: right;\">\n",
       "      <th></th>\n",
       "      <th>column_1</th>\n",
       "      <th>column_2</th>\n",
       "      <th>column_3</th>\n",
       "      <th>column_4</th>\n",
       "      <th>column_5</th>\n",
       "      <th>column_6</th>\n",
       "    </tr>\n",
       "  </thead>\n",
       "  <tbody>\n",
       "    <tr>\n",
       "      <th>1</th>\n",
       "      <td>0.229272</td>\n",
       "      <td>0.2107</td>\n",
       "      <td>0.060730</td>\n",
       "      <td>0.931219</td>\n",
       "      <td>0.685710</td>\n",
       "      <td>0.219518</td>\n",
       "    </tr>\n",
       "    <tr>\n",
       "      <th>2</th>\n",
       "      <td>0.368545</td>\n",
       "      <td>new_value</td>\n",
       "      <td>0.331735</td>\n",
       "      <td>0.912163</td>\n",
       "      <td>0.288284</td>\n",
       "      <td>0.080777</td>\n",
       "    </tr>\n",
       "    <tr>\n",
       "      <th>3</th>\n",
       "      <td>0.897412</td>\n",
       "      <td>0.732776</td>\n",
       "      <td>0.757395</td>\n",
       "      <td>0.320775</td>\n",
       "      <td>0.291422</td>\n",
       "      <td>0.570412</td>\n",
       "    </tr>\n",
       "    <tr>\n",
       "      <th>4</th>\n",
       "      <td>0.971484</td>\n",
       "      <td>0.978716</td>\n",
       "      <td>0.360693</td>\n",
       "      <td>0.865728</td>\n",
       "      <td>0.912149</td>\n",
       "      <td>0.059090</td>\n",
       "    </tr>\n",
       "    <tr>\n",
       "      <th>5</th>\n",
       "      <td>0.595746</td>\n",
       "      <td>0.444684</td>\n",
       "      <td>0.475196</td>\n",
       "      <td>0.129479</td>\n",
       "      <td>0.031694</td>\n",
       "      <td>0.718456</td>\n",
       "    </tr>\n",
       "    <tr>\n",
       "      <th>6</th>\n",
       "      <td>0.956284</td>\n",
       "      <td>0.130644</td>\n",
       "      <td>0.372472</td>\n",
       "      <td>0.868914</td>\n",
       "      <td>0.488080</td>\n",
       "      <td>0.428182</td>\n",
       "    </tr>\n",
       "  </tbody>\n",
       "</table>\n",
       "</div>"
      ],
      "text/plain": [
       "   column_1   column_2  column_3  column_4  column_5  column_6\n",
       "1  0.229272     0.2107  0.060730  0.931219  0.685710  0.219518\n",
       "2  0.368545  new_value  0.331735  0.912163  0.288284  0.080777\n",
       "3  0.897412   0.732776  0.757395  0.320775  0.291422  0.570412\n",
       "4  0.971484   0.978716  0.360693  0.865728  0.912149  0.059090\n",
       "5  0.595746   0.444684  0.475196  0.129479  0.031694  0.718456\n",
       "6  0.956284   0.130644  0.372472  0.868914  0.488080  0.428182"
      ]
     },
     "execution_count": 87,
     "metadata": {},
     "output_type": "execute_result"
    }
   ],
   "source": [
    "df1"
   ]
  },
  {
   "cell_type": "code",
   "execution_count": 96,
   "id": "d20e706d-81af-49e4-b3fc-d893ca890f13",
   "metadata": {},
   "outputs": [],
   "source": [
    "column2_means = df1['column_2']."
   ]
  },
  {
   "cell_type": "code",
   "execution_count": 97,
   "id": "e865bf69-0be3-4976-9db4-0a5ac39e7aa9",
   "metadata": {},
   "outputs": [
    {
     "data": {
      "text/plain": [
       "0.589346885785685"
      ]
     },
     "execution_count": 97,
     "metadata": {},
     "output_type": "execute_result"
    }
   ],
   "source": [
    "column2_means"
   ]
  },
  {
   "cell_type": "code",
   "execution_count": 98,
   "id": "ea92789d-5f69-44ba-bee0-5b8fa7d6612c",
   "metadata": {},
   "outputs": [],
   "source": [
    "# Q6.\n",
    "# In Pandas, a window function is a way to perform calculations on a specific subset of a larger dataset called a \"window\".\n",
    "# A window can be defined using various methods such as moving averages or rolling windows. These functions allow you to\n",
    "# compute aggregate statistics like mean, sum, min, max, etc. on subsets of your data.\n",
    "\n",
    "# Types of Window Functions in Pandas:\n",
    "\n",
    "# Rolling Window Functions:\n",
    "# Rolling window functions in Pandas operate on a rolling window of a specified size that moves across the data frame. \n",
    "# These functions can be used to calculate moving statistics like rolling mean, rolling sum, rolling median, rolling standard\n",
    "# deviation, and so on.\n",
    "\n",
    "# Expanding Window Functions:\n",
    "# Expanding window functions in Pandas perform calculations on an expanding window of data from the start of the dataset to \n",
    "# the current row. These functions can be used to calculate statistics like expanding mean, expanding sum, and so on.\n",
    "\n",
    "# Exponential Weighted Window Functions:\n",
    "# Exponential weighted window functions in Pandas perform calculations on an exponentially weighted moving average of a\n",
    "# specified size. These functions can be used to calculate exponentially weighted statistics like exponentially weighted \n",
    "# moving average, exponentially weighted standard deviation, and so on.\n",
    "\n",
    "# Grouped Window Functions:\n",
    "# Grouped window functions in Pandas perform calculations on a subset of data grouped by one or more columns. These functions\n",
    "# can be used to calculate grouped statistics like group mean, group sum, group max, group min, and so on."
   ]
  },
  {
   "cell_type": "code",
   "execution_count": 3,
   "id": "66b60554-b17c-48f8-8a40-671bcdb83230",
   "metadata": {},
   "outputs": [
    {
     "name": "stdout",
     "output_type": "stream",
     "text": [
      "Current month and year: February 2023\n"
     ]
    }
   ],
   "source": [
    "\n",
    "# Q7.\n",
    "import pandas as pd\n",
    "current = pd.Timestamp.now()\n",
    "print(\"Current month and year:\", current.strftime(\"%B %Y\"))\n"
   ]
  },
  {
   "cell_type": "code",
   "execution_count": 13,
   "id": "826af0f0-b39c-49fb-83f0-22f85db064ae",
   "metadata": {
    "scrolled": true,
    "tags": []
   },
   "outputs": [
    {
     "name": "stdin",
     "output_type": "stream",
     "text": [
      "Enter start date (YYYY-MM-DD):   2022-01-01\n",
      "Enter end date (YYYY-MM-DD):  2022-02-28\n"
     ]
    },
    {
     "name": "stdout",
     "output_type": "stream",
     "text": [
      "The difference between  2022-01-01 and 2022-02-28 is 58 days, 0 hours, and 0 minutes.\n"
     ]
    }
   ],
   "source": [
    "\n",
    "# Q8. Write a Python program that takes in two dates as input (in the format YYYY-MM-DD) and\n",
    "# calculates the difference between them in days, hours, and minutes using Pandas time delta. The\n",
    "# program should prompt the user to enter the dates and display the result.\n",
    "import pandas as pd \n",
    "\n",
    "start_date_str = input(\"Enter start date (YYYY-MM-DD): \")\n",
    "end_date_str = input(\"Enter end date (YYYY-MM-DD): \")\n",
    "\n",
    "start_date = pd.to_datetime(start_date_str)\n",
    "end_date = pd.to_datetime(end_date_str)\n",
    "\n",
    "delta = end_date - start_date\n",
    "\n",
    "days = delta.days\n",
    "hours = delta.seconds // 3600\n",
    "minutes = (delta.seconds % 3600) // 60\n",
    "\n",
    "print(f\"The difference between {start_date_str} and {end_date_str} is {days} days, {hours} hours, and {minutes} minutes.\")\n",
    "\n",
    "\n",
    "\n",
    "\n",
    "\n",
    "\n",
    "\n",
    "\n"
   ]
  },
  {
   "cell_type": "code",
   "execution_count": 15,
   "id": "8ff0eb1a-8338-4c81-8e57-9d635d61a55b",
   "metadata": {},
   "outputs": [],
   "source": [
    "#Q9.\n",
    "# import pandas as pd\n",
    "\n",
    "# # Prompt the user to enter the file path, column name, and category order\n",
    "# file_path = input(\"Enter the file path: \")\n",
    "# column_name = input(\"Enter the column name to convert: \")\n",
    "# category_order = input(\"Enter the category order (comma-separated): \").split(\",\")\n",
    "\n",
    "# # Read the CSV file into a DataFrame\n",
    "# df = pd.read_csv(file_path)\n",
    "\n",
    "# # Convert the specified column to a categorical data type\n",
    "# df[column_name] = pd.Categorical(df[column_name], categories=category_order)\n",
    "\n",
    "# # Sort the data by the specified column\n",
    "# df_sorted = df.sort_values(by=column_name)\n",
    "\n",
    "# # Display the sorted data\n",
    "# print(df_sorted)\n",
    "\n"
   ]
  },
  {
   "cell_type": "code",
   "execution_count": 17,
   "id": "71aa67e8-2481-4d8b-8c00-a3c2ab29c4c2",
   "metadata": {},
   "outputs": [],
   "source": [
    "# Q10\n",
    "# import pandas as pd\n",
    "# import matplotlib.pyplot as plt\n",
    "\n",
    "# # Prompt the user to enter the file path\n",
    "# file_path = input(\"Enter the file path: \")\n",
    "\n",
    "# # Read the CSV file into a DataFrame\n",
    "# df = pd.read_csv(file_path)\n",
    "\n",
    "# # Convert the 'Date' column to a datetime data type\n",
    "# df['Date'] = pd.to_datetime(df['Date'])\n",
    "\n",
    "# # Group the data by product category and date, and sum the sales\n",
    "# df_grouped = df.groupby(['Product Category', 'Date']).sum().reset_index()\n",
    "\n",
    "# # Pivot the data to create a stacked bar chart\n",
    "# df_pivot = df_grouped.pivot(index='Date', columns='Product Category', values='Sales')\n",
    "\n",
    "# # Create the stacked bar chart\n",
    "# ax = df_pivot.plot(kind='bar', stacked=True)\n",
    "\n",
    "# # Set the chart title and axis labels\n",
    "# ax.set_title('Sales by Product Category')\n",
    "# ax.set_xlabel('Date')\n",
    "# ax.set_ylabel('Sales')\n",
    "\n",
    "# # Display the chart\n",
    "# plt.show()\n"
   ]
  },
  {
   "cell_type": "code",
   "execution_count": 1,
   "id": "eec84125-2234-441e-8dc9-9dfc68aa1b42",
   "metadata": {},
   "outputs": [],
   "source": [
    "# Q11.\n",
    "# import pandas as pd\n",
    "\n",
    "# # Prompt the user to enter the file path of the CSV file containing the student data\n",
    "# file_path = input(\"Enter the file path of the CSV file containing the student data: \")\n",
    "\n",
    "# # Read the CSV file into a Pandas DataFrame\n",
    "# df = pd.read_csv(file_path)\n",
    "\n",
    "# # Calculate the mean, median, and mode of the test scores\n",
    "# mean_score = df['Test Score'].mean()\n",
    "# median_score = df['Test Score'].median()\n",
    "# mode_score = df['Test Score'].mode()\n",
    "\n",
    "# # Create a table of the results\n",
    "# results = pd.DataFrame({\n",
    "#     'Statistic': ['Mean', 'Median', 'Mode'],\n",
    "#     'Value': [mean_score, median_score, ', '.join(map(str, mode_score))]\n",
    "# })\n",
    "\n",
    "# # Display the table\n",
    "# print(results.to_string(index=False))\n",
    "\n"
   ]
  },
  {
   "cell_type": "code",
   "execution_count": 23,
   "id": "84b84d3c-e598-41c1-8f20-dcc111fc0360",
   "metadata": {},
   "outputs": [],
   "source": [
    "# # Q9.\n",
    "# import pandas as  pd \n",
    "# # Prompt the user to enter the file path, column name, and category order\n",
    "# file_path = input(\"Enter the file path: \")\n",
    "# column_name = input(\"Enter the column name to convert: \")\n",
    "# category_order = input(\"Enter the category order (comma-separated): \").split(\",\")\n",
    "\n",
    "# #read the file csv\n",
    "# df = pd.read_csv(file_path)\n",
    "# # Convert the specified column to a categorical data type\n",
    "# df[column_name] = pd.Categorical(df[column_name], categories=category_order)\n",
    "\n",
    "# # Sort the data by the specified column\n",
    "# df_sorted = df.sort_values(by=column_name)\n",
    "\n",
    "# # Display the sorted data\n",
    "# print(df_sorted)\n",
    "\n",
    "\n",
    "\n",
    "\n"
   ]
  },
  {
   "cell_type": "code",
   "execution_count": 21,
   "id": "eca6485c-3bda-4960-9e97-5f2b3220f808",
   "metadata": {},
   "outputs": [],
   "source": [
    "import pandas as pd "
   ]
  },
  {
   "cell_type": "code",
   "execution_count": 22,
   "id": "4a541aa0-2645-4cc2-b0db-ca03e16ef767",
   "metadata": {},
   "outputs": [
    {
     "name": "stdin",
     "output_type": "stream",
     "text": [
      "Enter the file path:  taxonomy.csv\n"
     ]
    },
    {
     "data": {
      "text/html": [
       "<div>\n",
       "<style scoped>\n",
       "    .dataframe tbody tr th:only-of-type {\n",
       "        vertical-align: middle;\n",
       "    }\n",
       "\n",
       "    .dataframe tbody tr th {\n",
       "        vertical-align: top;\n",
       "    }\n",
       "\n",
       "    .dataframe thead th {\n",
       "        text-align: right;\n",
       "    }\n",
       "</style>\n",
       "<table border=\"1\" class=\"dataframe\">\n",
       "  <thead>\n",
       "    <tr style=\"text-align: right;\">\n",
       "      <th></th>\n",
       "      <th>taxonomy_id</th>\n",
       "      <th>name</th>\n",
       "      <th>parent_id</th>\n",
       "      <th>parent_name</th>\n",
       "    </tr>\n",
       "  </thead>\n",
       "  <tbody>\n",
       "    <tr>\n",
       "      <th>0</th>\n",
       "      <td>101</td>\n",
       "      <td>Emergency</td>\n",
       "      <td>NaN</td>\n",
       "      <td>NaN</td>\n",
       "    </tr>\n",
       "    <tr>\n",
       "      <th>1</th>\n",
       "      <td>101-01</td>\n",
       "      <td>Disaster Response</td>\n",
       "      <td>101</td>\n",
       "      <td>Emergency</td>\n",
       "    </tr>\n",
       "    <tr>\n",
       "      <th>2</th>\n",
       "      <td>101-02</td>\n",
       "      <td>Emergency Cash</td>\n",
       "      <td>101</td>\n",
       "      <td>Emergency</td>\n",
       "    </tr>\n",
       "    <tr>\n",
       "      <th>3</th>\n",
       "      <td>101-02-01</td>\n",
       "      <td>Help Pay for Food</td>\n",
       "      <td>101-02</td>\n",
       "      <td>Emergency Cash</td>\n",
       "    </tr>\n",
       "    <tr>\n",
       "      <th>4</th>\n",
       "      <td>101-02-02</td>\n",
       "      <td>Help Pay for Healthcare</td>\n",
       "      <td>101-02</td>\n",
       "      <td>Emergency Cash</td>\n",
       "    </tr>\n",
       "    <tr>\n",
       "      <th>...</th>\n",
       "      <td>...</td>\n",
       "      <td>...</td>\n",
       "      <td>...</td>\n",
       "      <td>...</td>\n",
       "    </tr>\n",
       "    <tr>\n",
       "      <th>285</th>\n",
       "      <td>111-01-07</td>\n",
       "      <td>Workplace Rights</td>\n",
       "      <td>111-01</td>\n",
       "      <td>Advocacy &amp; Legal Aid</td>\n",
       "    </tr>\n",
       "    <tr>\n",
       "      <th>286</th>\n",
       "      <td>111-02</td>\n",
       "      <td>Mediation</td>\n",
       "      <td>111</td>\n",
       "      <td>Legal</td>\n",
       "    </tr>\n",
       "    <tr>\n",
       "      <th>287</th>\n",
       "      <td>111-03</td>\n",
       "      <td>Notary</td>\n",
       "      <td>111</td>\n",
       "      <td>Legal</td>\n",
       "    </tr>\n",
       "    <tr>\n",
       "      <th>288</th>\n",
       "      <td>111-04</td>\n",
       "      <td>Representation</td>\n",
       "      <td>111</td>\n",
       "      <td>Legal</td>\n",
       "    </tr>\n",
       "    <tr>\n",
       "      <th>289</th>\n",
       "      <td>111-05</td>\n",
       "      <td>Translation &amp; Interpretation</td>\n",
       "      <td>111</td>\n",
       "      <td>Legal</td>\n",
       "    </tr>\n",
       "  </tbody>\n",
       "</table>\n",
       "<p>290 rows × 4 columns</p>\n",
       "</div>"
      ],
      "text/plain": [
       "    taxonomy_id                          name parent_id           parent_name\n",
       "0           101                     Emergency       NaN                   NaN\n",
       "1        101-01             Disaster Response       101             Emergency\n",
       "2        101-02                Emergency Cash       101             Emergency\n",
       "3     101-02-01             Help Pay for Food    101-02        Emergency Cash\n",
       "4     101-02-02       Help Pay for Healthcare    101-02        Emergency Cash\n",
       "..          ...                           ...       ...                   ...\n",
       "285   111-01-07              Workplace Rights    111-01  Advocacy & Legal Aid\n",
       "286      111-02                     Mediation       111                 Legal\n",
       "287      111-03                        Notary       111                 Legal\n",
       "288      111-04                Representation       111                 Legal\n",
       "289      111-05  Translation & Interpretation       111                 Legal\n",
       "\n",
       "[290 rows x 4 columns]"
      ]
     },
     "execution_count": 22,
     "metadata": {},
     "output_type": "execute_result"
    }
   ],
   "source": [
    "file_path = input(\"Enter the file path: \")\n",
    "\n",
    "file = pd.read_csv(file_path)"
   ]
  },
  {
   "cell_type": "code",
   "execution_count": null,
   "id": "4cc54798-2d5e-4e9b-918c-5add7b13209a",
   "metadata": {},
   "outputs": [],
   "source": []
  }
 ],
 "metadata": {
  "kernelspec": {
   "display_name": "Python 3 (ipykernel)",
   "language": "python",
   "name": "python3"
  },
  "language_info": {
   "codemirror_mode": {
    "name": "ipython",
    "version": 3
   },
   "file_extension": ".py",
   "mimetype": "text/x-python",
   "name": "python",
   "nbconvert_exporter": "python",
   "pygments_lexer": "ipython3",
   "version": "3.10.8"
  }
 },
 "nbformat": 4,
 "nbformat_minor": 5
}
